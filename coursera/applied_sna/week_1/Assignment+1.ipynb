{
 "cells": [
  {
   "cell_type": "markdown",
   "metadata": {},
   "source": [
    "---\n",
    "\n",
    "_You are currently looking at **version 1.1** of this notebook. To download notebooks and datafiles, as well as get help on Jupyter notebooks in the Coursera platform, visit the [Jupyter Notebook FAQ](https://www.coursera.org/learn/python-social-network-analysis/resources/yPcBs) course resource._\n",
    "\n",
    "---"
   ]
  },
  {
   "cell_type": "markdown",
   "metadata": {},
   "source": [
    "# Assignment 1 - Creating and Manipulating Graphs\n",
    "\n",
    "Eight employees at a small company were asked to choose 3 movies that they would most enjoy watching for the upcoming company movie night. These choices are stored in the file `Employee_Movie_Choices.txt`.\n",
    "\n",
    "A second file, `Employee_Relationships.txt`, has data on the relationships between different coworkers. \n",
    "\n",
    "The relationship score has value of `-100` (Enemies) to `+100` (Best Friends). A value of zero means the two employees haven't interacted or are indifferent.\n",
    "\n",
    "Both files are tab delimited."
   ]
  },
  {
   "cell_type": "code",
   "execution_count": 1,
   "metadata": {
    "collapsed": true
   },
   "outputs": [],
   "source": [
    "import networkx as nx\n",
    "import pandas as pd\n",
    "import numpy as np\n",
    "from networkx.algorithms import bipartite\n",
    "\n",
    "\n",
    "# This is the set of employees\n",
    "employees = set(['Pablo',\n",
    "                 'Lee',\n",
    "                 'Georgia',\n",
    "                 'Vincent',\n",
    "                 'Andy',\n",
    "                 'Frida',\n",
    "                 'Joan',\n",
    "                 'Claude'])\n",
    "\n",
    "# This is the set of movies\n",
    "movies = set(['The Shawshank Redemption',\n",
    "              'Forrest Gump',\n",
    "              'The Matrix',\n",
    "              'Anaconda',\n",
    "              'The Social Network',\n",
    "              'The Godfather',\n",
    "              'Monty Python and the Holy Grail',\n",
    "              'Snakes on a Plane',\n",
    "              'Kung Fu Panda',\n",
    "              'The Dark Knight',\n",
    "              'Mean Girls'])\n",
    "\n",
    "\n",
    "# you can use the following function to plot graphs\n",
    "# make sure to comment it out before submitting to the autograder\n",
    "def plot_graph(G, weight_name=None):\n",
    "    '''\n",
    "    G: a networkx G\n",
    "    weight_name: name of the attribute for plotting edge weights (if G is weighted)\n",
    "    '''\n",
    "    %matplotlib notebook\n",
    "    import matplotlib.pyplot as plt\n",
    "    \n",
    "    plt.figure()\n",
    "    pos = nx.spring_layout(G)\n",
    "    edges = G.edges()\n",
    "    weights = None\n",
    "    \n",
    "    if weight_name:\n",
    "        weights = [int(G[u][v][weight_name]) for u,v in edges]\n",
    "        labels = nx.get_edge_attributes(G,weight_name)\n",
    "        nx.draw_networkx_edge_labels(G,pos,edge_labels=labels)\n",
    "        nx.draw_networkx(G, pos, edges=edges, width=weights);\n",
    "    else:\n",
    "        nx.draw_networkx(G, pos, edges=edges);"
   ]
  },
  {
   "cell_type": "markdown",
   "metadata": {},
   "source": [
    "### Question 1\n",
    "\n",
    "Using NetworkX, load in the bipartite graph from `Employee_Movie_Choices.txt` and return that graph.\n",
    "\n",
    "*This function should return a networkx graph with 19 nodes and 24 edges*"
   ]
  },
  {
   "cell_type": "code",
   "execution_count": 2,
   "metadata": {},
   "outputs": [
    {
     "name": "stdout",
     "output_type": "stream",
     "text": [
      "#Employee\tMovie\r\n",
      "Andy\tAnaconda\r\n",
      "Andy\tMean Girls\r\n",
      "Andy\tThe Matrix\r\n",
      "Claude\tAnaconda\r\n",
      "Claude\tMonty Python and the Holy Grail\r\n",
      "Claude\tSnakes on a Plane\r\n",
      "Frida\tThe Matrix\r\n",
      "Frida\tThe Shawshank Redemption\r\n",
      "Frida\tThe Social Network\r\n",
      "Georgia\tAnaconda\r\n",
      "Georgia\tMonty Python and the Holy Grail\r\n",
      "Georgia\tSnakes on a Plane\r\n",
      "Joan\tForrest Gump\r\n",
      "Joan\tKung Fu Panda\r\n",
      "Joan\tMean Girls\r\n",
      "Lee\tForrest Gump\r\n",
      "Lee\tKung Fu Panda\r\n",
      "Lee\tMean Girls\r\n",
      "Pablo\tThe Dark Knight\r\n",
      "Pablo\tThe Matrix\r\n",
      "Pablo\tThe Shawshank Redemption\r\n",
      "Vincent\tThe Godfather\r\n",
      "Vincent\tThe Shawshank Redemption\r\n",
      "Vincent\tThe Social Network\r\n"
     ]
    }
   ],
   "source": [
    "!cat Employee_Movie_Choices.txt"
   ]
  },
  {
   "cell_type": "code",
   "execution_count": 3,
   "metadata": {},
   "outputs": [
    {
     "name": "stdout",
     "output_type": "stream",
     "text": [
      "19\n",
      "24\n",
      "['Andy', 'Anaconda', 'Mean Girls', 'The Matrix', 'Claude', 'Monty Python and the Holy Grail', 'Snakes on a Plane', 'Frida', 'The Shawshank Redemption', 'The Social Network', 'Georgia', 'Joan', 'Forrest Gump', 'Kung Fu Panda', 'Lee', 'Pablo', 'The Dark Knight', 'Vincent', 'The Godfather']\n"
     ]
    }
   ],
   "source": [
    "def answer_one(filename = 'Employee_Movie_Choices.txt', header = 0):\n",
    "    \n",
    "    graph_df = pd.read_csv(filename, delimiter='\\t', header=header)\n",
    "    \n",
    "    G = nx.from_pandas_dataframe(graph_df, '#Employee', 'Movie')\n",
    "    \n",
    "    return G\n",
    "\n",
    "G = answer_one()\n",
    "print(len(G.nodes()))\n",
    "print(len(G.edges()))\n",
    "print(G.nodes())"
   ]
  },
  {
   "cell_type": "markdown",
   "metadata": {},
   "source": [
    "### Question 2\n",
    "\n",
    "Using the graph from the previous question, add nodes attributes named `'type'` where movies have the value `'movie'` and employees have the value `'employee'` and return that graph.\n",
    "\n",
    "*This function should return a networkx graph with node attributes `{'type': 'movie'}` or `{'type': 'employee'}`*"
   ]
  },
  {
   "cell_type": "code",
   "execution_count": 4,
   "metadata": {},
   "outputs": [
    {
     "name": "stdout",
     "output_type": "stream",
     "text": [
      "[('Andy', {'type': 'employee'}), ('Anaconda', {'type': 'movie'}), ('Mean Girls', {'type': 'movie'}), ('The Matrix', {'type': 'movie'}), ('Claude', {'type': 'employee'}), ('Monty Python and the Holy Grail', {'type': 'movie'}), ('Snakes on a Plane', {'type': 'movie'}), ('Frida', {'type': 'employee'}), ('The Shawshank Redemption', {'type': 'movie'}), ('The Social Network', {'type': 'movie'}), ('Georgia', {'type': 'employee'}), ('Joan', {'type': 'employee'}), ('Forrest Gump', {'type': 'movie'}), ('Kung Fu Panda', {'type': 'movie'}), ('Lee', {'type': 'employee'}), ('Pablo', {'type': 'employee'}), ('The Dark Knight', {'type': 'movie'}), ('Vincent', {'type': 'employee'}), ('The Godfather', {'type': 'movie'})]\n"
     ]
    }
   ],
   "source": [
    "def answer_two(G, filename = 'Employee_Movie_Choices.txt', header = 0):\n",
    "    \n",
    "    graph_df = pd.read_csv(filename, delimiter='\\t', header=header)\n",
    "        \n",
    "    for node in G.nodes():\n",
    "        if node in set(graph_df['#Employee']):\n",
    "            G.node[node]['type'] = 'employee'\n",
    "        elif node in set(graph_df['Movie']):\n",
    "            G.node[node]['type'] = 'movie'\n",
    "        else:\n",
    "            print(\"node not found\")\n",
    "            pass\n",
    "    \n",
    "    return G\n",
    "\n",
    "G = answer_two(G)\n",
    "print(G.nodes(data = 'type'))"
   ]
  },
  {
   "cell_type": "markdown",
   "metadata": {
    "collapsed": true
   },
   "source": [
    "### Question 3\n",
    "\n",
    "Find a weighted projection of the graph from `answer_two` which tells us how many movies different pairs of employees have in common.\n",
    "\n",
    "*This function should return a weighted projected graph.*"
   ]
  },
  {
   "cell_type": "code",
   "execution_count": 10,
   "metadata": {},
   "outputs": [
    {
     "name": "stderr",
     "output_type": "stream",
     "text": [
      "/opt/conda/lib/python3.6/site-packages/networkx/drawing/nx_pylab.py:126: MatplotlibDeprecationWarning: pyplot.hold is deprecated.\n",
      "    Future behavior will be consistent with the long-time default:\n",
      "    plot commands add elements without first clearing the\n",
      "    Axes and/or Figure.\n",
      "  b = plt.ishold()\n",
      "/opt/conda/lib/python3.6/site-packages/networkx/drawing/nx_pylab.py:138: MatplotlibDeprecationWarning: pyplot.hold is deprecated.\n",
      "    Future behavior will be consistent with the long-time default:\n",
      "    plot commands add elements without first clearing the\n",
      "    Axes and/or Figure.\n",
      "  plt.hold(b)\n",
      "/opt/conda/lib/python3.6/site-packages/matplotlib/__init__.py:917: UserWarning: axes.hold is deprecated. Please remove it from your matplotlibrc and/or style files.\n",
      "  warnings.warn(self.msg_depr_set % key)\n",
      "/opt/conda/lib/python3.6/site-packages/matplotlib/rcsetup.py:152: UserWarning: axes.hold is deprecated, will be removed in 3.0\n",
      "  warnings.warn(\"axes.hold is deprecated, will be removed in 3.0\")\n"
     ]
    },
    {
     "data": {
      "image/png": "[encoded data removed]",
      "text/plain": [
       "<matplotlib.figure.Figure at 0x7fe9cd61bef0>"
      ]
     },
     "metadata": {},
     "output_type": "display_data"
    }
   ],
   "source": [
    "import matplotlib.pyplot as plt\n",
    "def answer_three(G):\n",
    "    \n",
    "    ## Get the set of employees\n",
    "    employees = set([n[0] for n in G.nodes(data = 'type') if n[1]['type'] == 'employee'])\n",
    "    \n",
    "    ## Get the weighted projected graph using bipartite algos\n",
    "    P = bipartite.weighted_projected_graph(G, employees)\n",
    "    \n",
    "    return P\n",
    "\n",
    "P = answer_three(G)\n",
    "\n",
    "## Attempt to draw the bipartite graph\n",
    "nx.draw(P)\n",
    "plt.draw()\n",
    "plt.show()"
   ]
  },
  {
   "cell_type": "markdown",
   "metadata": {
    "collapsed": true
   },
   "source": [
    "### Question 4\n",
    "\n",
    "Suppose you'd like to find out if people that have a high relationship score also like the same types of movies.\n",
    "\n",
    "Find the Pearson correlation ( using `DataFrame.corr()` ) between employee relationship scores and the number of movies they have in common. If two employees have no movies in common it should be treated as a 0, not a missing value, and should be included in the correlation calculation.\n",
    "\n",
    "*This function should return a float.*"
   ]
  },
  {
   "cell_type": "code",
   "execution_count": 11,
   "metadata": {},
   "outputs": [
    {
     "name": "stdout",
     "output_type": "stream",
     "text": [
      "Andy\tClaude\t0\r\n",
      "Andy\tFrida\t20\r\n",
      "Andy\tGeorgia\t-10\r\n",
      "Andy\tJoan\t30\r\n",
      "Andy\tLee\t-10\r\n",
      "Andy\tPablo\t-10\r\n",
      "Andy\tVincent\t20\r\n",
      "Claude\tFrida\t0\r\n",
      "Claude\tGeorgia\t90\r\n",
      "Claude\tJoan\t0\r\n",
      "Claude\tLee\t0\r\n",
      "Claude\tPablo\t10\r\n",
      "Claude\tVincent\t0\r\n",
      "Frida\tGeorgia\t0\r\n",
      "Frida\tJoan\t0\r\n",
      "Frida\tLee\t0\r\n",
      "Frida\tPablo\t50\r\n",
      "Frida\tVincent\t60\r\n",
      "Georgia\tJoan\t0\r\n",
      "Georgia\tLee\t10\r\n",
      "Georgia\tPablo\t0\r\n",
      "Georgia\tVincent\t0\r\n",
      "Joan\tLee\t70\r\n",
      "Joan\tPablo\t0\r\n",
      "Joan\tVincent\t10\r\n",
      "Lee\tPablo\t0\r\n",
      "Lee\tVincent\t0\r\n",
      "Pablo\tVincent\t-20\r\n"
     ]
    }
   ],
   "source": [
    "!cat Employee_Relationships.txt"
   ]
  },
  {
   "cell_type": "code",
   "execution_count": 27,
   "metadata": {},
   "outputs": [
    {
     "data": {
      "text/plain": [
       "0.78839622217334759"
      ]
     },
     "execution_count": 27,
     "metadata": {},
     "output_type": "execute_result"
    }
   ],
   "source": [
    "relation_df =  pd.read_csv('Employee_Relationships.txt', delimiter='\\t', header=None,\n",
    "                           names = ['Employee_1', 'Employee_2', 'score'])\n",
    "\n",
    "def bipartite_to_df(P):\n",
    "    employee_1_list = []\n",
    "    employee_2_list = []\n",
    "    movies_in_common_list = []\n",
    "    for i in P.adjacency_iter():\n",
    "        for emp_2 in i[1].keys():\n",
    "            employee_1_list.append(i[0])\n",
    "            employee_2_list.append(emp_2)\n",
    "            movies_in_common_list.append(i[1][emp_2]['weight'])\n",
    "    shared_movies_df = pd.DataFrame({'Employee_1': employee_1_list,\n",
    "                                     'Employee_2': employee_2_list,\n",
    "                                     'movies_in_common': movies_in_common_list})\n",
    "    return shared_movies_df\n",
    "\n",
    "\n",
    "shared_movies_df = bipartite_to_df(P)\n",
    "\n",
    "\n",
    "def answer_four(df1 = relation_df, df2 = shared_movies_df):\n",
    "    \n",
    "    corr_df = df1.merge(df2, how = 'left')\n",
    "    corr_df['movies_in_common'] = corr_df['movies_in_common'].fillna(0)\n",
    "    \n",
    "    return corr_df.corr().loc['score', 'movies_in_common']\n",
    "\n",
    "corr = answer_four()\n",
    "corr"
   ]
  },
  {
   "cell_type": "code",
   "execution_count": null,
   "metadata": {
    "collapsed": true
   },
   "outputs": [],
   "source": []
  }
 ],
 "metadata": {
  "coursera": {
   "course_slug": "python-social-network-analysis",
   "graded_item_id": "YNa9b",
   "launcher_item_id": "hvNc1",
   "part_id": "VbyiB"
  },
  "kernelspec": {
   "display_name": "Python 3",
   "language": "python",
   "name": "python3"
  },
  "language_info": {
   "codemirror_mode": {
    "name": "ipython",
    "version": 3
   },
   "file_extension": ".py",
   "mimetype": "text/x-python",
   "name": "python",
   "nbconvert_exporter": "python",
   "pygments_lexer": "ipython3",
   "version": "3.6.2"
  }
 },
 "nbformat": 4,
 "nbformat_minor": 2
}
