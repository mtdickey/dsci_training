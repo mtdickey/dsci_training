{
 "cells": [
  {
   "cell_type": "markdown",
   "metadata": {},
   "source": [
    "---\n",
    "\n",
    "_You are currently looking at **version 1.2** of this notebook. To download notebooks and datafiles, as well as get help on Jupyter notebooks in the Coursera platform, visit the [Jupyter Notebook FAQ](https://www.coursera.org/learn/python-social-network-analysis/resources/yPcBs) course resource._\n",
    "\n",
    "---"
   ]
  },
  {
   "cell_type": "markdown",
   "metadata": {},
   "source": [
    "# Assignment 2 - Network Connectivity\n",
    "\n",
    "In this assignment you will go through the process of importing and analyzing an internal email communication network between employees of a mid-sized manufacturing company. \n",
    "Each node represents an employee and each directed edge between two nodes represents an individual email. The left node represents the sender and the right node represents the recipient."
   ]
  },
  {
   "cell_type": "code",
   "execution_count": 1,
   "metadata": {
    "collapsed": true
   },
   "outputs": [],
   "source": [
    "import networkx as nx\n",
    "\n",
    "# This line must be commented out when submitting to the autograder\n",
    "#!head email_network.txt"
   ]
  },
  {
   "cell_type": "markdown",
   "metadata": {},
   "source": [
    "### Question 1\n",
    "\n",
    "Using networkx, load up the directed multigraph from `email_network.txt`. Make sure the node names are strings.\n",
    "\n",
    "*This function should return a directed multigraph networkx graph.*"
   ]
  },
  {
   "cell_type": "code",
   "execution_count": 2,
   "metadata": {},
   "outputs": [
    {
     "name": "stdout",
     "output_type": "stream",
     "text": [
      "True\n",
      "True\n",
      "[('1', '2', {'time': '1262454010'}), ('1', '2', {'time': '1262604260'}), ('1', '2', {'time': '1262645364'}), ('1', '2', {'time': '1262734830'})]\n"
     ]
    }
   ],
   "source": [
    "def answer_one(filename = 'email_network.txt', header = 0):\n",
    "    \n",
    "    ## Import the text file\n",
    "    #graph_df = pd.read_csv(filename, delimiter='\\t', header=header)\n",
    "    #graph_df.columns = ['Sender', 'Recipient', 'time']\n",
    "    edges = []\n",
    "    with open(filename, 'r') as f:\n",
    "        for line in f.readlines()[1:]:\n",
    "            edges.append( (line.split('\\t')[0], line.split('\\t')[1], {'time': line.split('\\t')[2].replace('\\n', '')}) )\n",
    "    \n",
    "    ## Initialize a multi-digraph and grow it by adding edges\n",
    "    G = nx.MultiDiGraph()\n",
    "    #edges = [(row['Sender'], row['Recipient'], dict(time = row['time'])) \n",
    "    #            for i, row in graph_df.iterrows()]\n",
    "    G.add_edges_from(edges)\n",
    "    \n",
    "    return G\n",
    "\n",
    "G = answer_one()\n",
    "print(G.is_directed())\n",
    "print(G.is_multigraph())\n",
    "print(G.edges(data = True)[:4]) ## check out the first 5 edges"
   ]
  },
  {
   "cell_type": "markdown",
   "metadata": {},
   "source": [
    "### Question 2\n",
    "\n",
    "How many employees and emails are represented in the graph from Question 1?\n",
    "\n",
    "*This function should return a tuple (#employees, #emails).*"
   ]
  },
  {
   "cell_type": "code",
   "execution_count": 3,
   "metadata": {},
   "outputs": [
    {
     "data": {
      "text/plain": [
       "(167, 82927)"
      ]
     },
     "execution_count": 3,
     "metadata": {},
     "output_type": "execute_result"
    }
   ],
   "source": [
    "def answer_two(G = G):\n",
    "    \n",
    "    n_employees = len(G.nodes())\n",
    "    n_emails = len(G.edges())\n",
    "    \n",
    "    return (n_employees, n_emails)\n",
    "\n",
    "answer_two()"
   ]
  },
  {
   "cell_type": "markdown",
   "metadata": {},
   "source": [
    "### Question 3\n",
    "\n",
    "* Part 1. Assume that information in this company can only be exchanged through email.\n",
    "\n",
    "    When an employee sends an email to another employee, a communication channel has been created, allowing the sender to provide information to the receiver, but not vice versa. \n",
    "\n",
    "    Based on the emails sent in the data, is it possible for information to go from every employee to every other employee?\n",
    "\n",
    "\n",
    "* Part 2. Now assume that a communication channel established by an email allows information to be exchanged both ways. \n",
    "\n",
    "    Based on the emails sent in the data, is it possible for information to go from every employee to every other employee?\n",
    "\n",
    "\n",
    "*This function should return a tuple of bools (part1, part2).*"
   ]
  },
  {
   "cell_type": "code",
   "execution_count": 4,
   "metadata": {},
   "outputs": [
    {
     "data": {
      "text/plain": [
       "(False, True)"
      ]
     },
     "execution_count": 4,
     "metadata": {},
     "output_type": "execute_result"
    }
   ],
   "source": [
    "def answer_three(G = G):\n",
    "        \n",
    "    part1 = nx.is_strongly_connected(G)\n",
    "    \n",
    "    part2 = nx.is_weakly_connected(G)\n",
    "    \n",
    "    return (part1, part2)\n",
    "\n",
    "answer_three()"
   ]
  },
  {
   "cell_type": "markdown",
   "metadata": {},
   "source": [
    "### Question 4\n",
    "\n",
    "How many nodes are in the largest (in terms of nodes) weakly connected component?\n",
    "\n",
    "*This function should return an int.*"
   ]
  },
  {
   "cell_type": "code",
   "execution_count": 5,
   "metadata": {
    "scrolled": true
   },
   "outputs": [
    {
     "data": {
      "text/plain": [
       "167"
      ]
     },
     "execution_count": 5,
     "metadata": {},
     "output_type": "execute_result"
    }
   ],
   "source": [
    "def answer_four(G = G):\n",
    "        \n",
    "    components = nx.weakly_connected_components(G)\n",
    "    lens = [len(comp) for comp in components]\n",
    "    max_len = max(lens)\n",
    "    \n",
    "    return max_len\n",
    "\n",
    "answer_four()"
   ]
  },
  {
   "cell_type": "markdown",
   "metadata": {},
   "source": [
    "### Question 5\n",
    "\n",
    "How many nodes are in the largest (in terms of nodes) strongly connected component?\n",
    "\n",
    "*This function should return an int*"
   ]
  },
  {
   "cell_type": "code",
   "execution_count": 6,
   "metadata": {},
   "outputs": [
    {
     "data": {
      "text/plain": [
       "126"
      ]
     },
     "execution_count": 6,
     "metadata": {},
     "output_type": "execute_result"
    }
   ],
   "source": [
    "def answer_five(G = G):\n",
    "        \n",
    "    components = nx.strongly_connected_components(G)\n",
    "    lens = [len(comp) for comp in components]\n",
    "    max_len = max(lens)\n",
    "    \n",
    "    return max_len\n",
    "\n",
    "answer_five()"
   ]
  },
  {
   "cell_type": "markdown",
   "metadata": {},
   "source": [
    "### Question 6\n",
    "\n",
    "Using the NetworkX function strongly_connected_component_subgraphs, find the subgraph of nodes in a largest strongly connected component. \n",
    "Call this graph G_sc.\n",
    "\n",
    "*This function should return a networkx MultiDiGraph named G_sc.*"
   ]
  },
  {
   "cell_type": "code",
   "execution_count": 7,
   "metadata": {},
   "outputs": [
    {
     "data": {
      "text/plain": [
       "<networkx.classes.multidigraph.MultiDiGraph at 0x7f0e6c009668>"
      ]
     },
     "execution_count": 7,
     "metadata": {},
     "output_type": "execute_result"
    }
   ],
   "source": [
    "def answer_six(G = G):\n",
    "        \n",
    "    subgraphs = nx.strongly_connected_component_subgraphs(G)\n",
    "    for G_sc in subgraphs:\n",
    "        if len(G_sc.nodes()) == answer_five():\n",
    "            return G_sc\n",
    "        else:\n",
    "            pass\n",
    "\n",
    "G_sc = answer_six()\n",
    "G_sc"
   ]
  },
  {
   "cell_type": "markdown",
   "metadata": {},
   "source": [
    "### Question 7\n",
    "\n",
    "What is the average distance between nodes in G_sc?\n",
    "\n",
    "*This function should return a float.*"
   ]
  },
  {
   "cell_type": "code",
   "execution_count": 8,
   "metadata": {},
   "outputs": [
    {
     "data": {
      "text/plain": [
       "1.6461587301587302"
      ]
     },
     "execution_count": 8,
     "metadata": {},
     "output_type": "execute_result"
    }
   ],
   "source": [
    "def answer_seven(G_sc = G_sc):\n",
    "        \n",
    "    avg_dist = nx.average_shortest_path_length(G_sc)\n",
    "    \n",
    "    return avg_dist\n",
    "\n",
    "answer_seven()"
   ]
  },
  {
   "cell_type": "markdown",
   "metadata": {},
   "source": [
    "### Question 8\n",
    "\n",
    "What is the largest possible distance between two employees in G_sc?\n",
    "\n",
    "*This function should return an int.*"
   ]
  },
  {
   "cell_type": "code",
   "execution_count": 9,
   "metadata": {},
   "outputs": [
    {
     "data": {
      "text/plain": [
       "3"
      ]
     },
     "execution_count": 9,
     "metadata": {},
     "output_type": "execute_result"
    }
   ],
   "source": [
    "def answer_eight(G_sc = G_sc):\n",
    "    \n",
    "    diameter = nx.diameter(G_sc)\n",
    "    \n",
    "    return diameter\n",
    "\n",
    "answer_eight()"
   ]
  },
  {
   "cell_type": "markdown",
   "metadata": {},
   "source": [
    "### Question 9\n",
    "\n",
    "What is the set of nodes in G_sc with eccentricity equal to the diameter?\n",
    "\n",
    "*This function should return a set of the node(s).*"
   ]
  },
  {
   "cell_type": "code",
   "execution_count": 10,
   "metadata": {},
   "outputs": [
    {
     "data": {
      "text/plain": [
       "{'129', '134', '97'}"
      ]
     },
     "execution_count": 10,
     "metadata": {},
     "output_type": "execute_result"
    }
   ],
   "source": [
    "def answer_nine(G_sc = G_sc):\n",
    "    \n",
    "    periphery = set(nx.periphery(G_sc))\n",
    "    \n",
    "    return periphery\n",
    "\n",
    "answer_nine()"
   ]
  },
  {
   "cell_type": "markdown",
   "metadata": {},
   "source": [
    "### Question 10\n",
    "\n",
    "What is the set of node(s) in G_sc with eccentricity equal to the radius?\n",
    "\n",
    "*This function should return a set of the node(s).*"
   ]
  },
  {
   "cell_type": "code",
   "execution_count": 11,
   "metadata": {},
   "outputs": [
    {
     "data": {
      "text/plain": [
       "{'38'}"
      ]
     },
     "execution_count": 11,
     "metadata": {},
     "output_type": "execute_result"
    }
   ],
   "source": [
    "def answer_ten(G_sc = G_sc):\n",
    "    \n",
    "    center = set(nx.center(G_sc))\n",
    "    \n",
    "    return center\n",
    "\n",
    "answer_ten()"
   ]
  },
  {
   "cell_type": "markdown",
   "metadata": {},
   "source": [
    "### Question 11\n",
    "\n",
    "Which node in G_sc is connected to the most other nodes by a shortest path of length equal to the diameter of G_sc?\n",
    "\n",
    "How many nodes are connected to this node?\n",
    "\n",
    "\n",
    "*This function should return a tuple (name of node, number of satisfied connected nodes).*"
   ]
  },
  {
   "cell_type": "code",
   "execution_count": 12,
   "metadata": {},
   "outputs": [
    {
     "data": {
      "text/plain": [
       "('97', 63)"
      ]
     },
     "execution_count": 12,
     "metadata": {},
     "output_type": "execute_result"
    }
   ],
   "source": [
    "def answer_eleven(G_sc = G_sc):\n",
    "    \n",
    "    periphery_node_info = {}\n",
    "    for node in answer_nine():\n",
    "        diameter_path_count = 0\n",
    "        connection_count = 0\n",
    "        for other_node in [node2 for node2 in G_sc.nodes() if node2 != node]:\n",
    "            dist = nx.shortest_path_length(G_sc, node, other_node)\n",
    "            if dist == answer_eight():\n",
    "                diameter_path_count+=1\n",
    "            elif dist == 1:\n",
    "                connection_count+=1\n",
    "            else:\n",
    "                pass\n",
    "        periphery_node_info[node] = {'connection_count': connection_count,\n",
    "                                     'diameter_path_count': diameter_path_count}\n",
    "    \n",
    "    max_diameter_path_count = 0\n",
    "    node_name = ''\n",
    "    for node in periphery_node_info:\n",
    "        if periphery_node_info[node]['diameter_path_count'] > max_diameter_path_count:\n",
    "            max_diameter_path_count = periphery_node_info[node]['diameter_path_count']\n",
    "            node_name = node\n",
    "    n_connected_nodes = periphery_node_info[node_name]['diameter_path_count'] #connection_count\n",
    "    \n",
    "    return (node_name, n_connected_nodes)\n",
    "\n",
    "answer_eleven()"
   ]
  },
  {
   "cell_type": "markdown",
   "metadata": {},
   "source": [
    "### Question 12\n",
    "\n",
    "Suppose you want to prevent communication from flowing to the node that you found in the previous question from any node in the center of G_sc, what is the smallest number of nodes you would need to remove from the graph (you're not allowed to remove the node from the previous question or the center nodes)? \n",
    "\n",
    "*This function should return an integer.*"
   ]
  },
  {
   "cell_type": "code",
   "execution_count": 18,
   "metadata": {},
   "outputs": [
    {
     "data": {
      "text/plain": [
       "1"
      ]
     },
     "execution_count": 18,
     "metadata": {},
     "output_type": "execute_result"
    }
   ],
   "source": [
    "def answer_twelve(G_sc = G_sc):\n",
    "    \n",
    "    center_nodes = answer_ten()\n",
    "    center_node = list(center_nodes)[0]\n",
    "    \n",
    "    periphery_node_tuple = answer_eleven()\n",
    "    periphery_node = periphery_node_tuple[0]\n",
    "    \n",
    "    min_nodes = nx.minimum_node_cut(G_sc, periphery_node, center_node)\n",
    "    \n",
    "    return len(min_nodes)\n",
    "\n",
    "answer_twelve()"
   ]
  },
  {
   "cell_type": "markdown",
   "metadata": {},
   "source": [
    "### Question 13\n",
    "\n",
    "Construct an undirected graph G_un using G_sc (you can ignore the attributes).\n",
    "\n",
    "*This function should return a networkx Graph.*"
   ]
  },
  {
   "cell_type": "code",
   "execution_count": 15,
   "metadata": {
    "collapsed": true
   },
   "outputs": [],
   "source": [
    "def answer_thirteen(G_sc = G_sc):\n",
    "    \n",
    "    edges = list(set(G_sc.edges()))\n",
    "    \n",
    "    G_un = nx.Graph()\n",
    "    G_un.add_edges_from(edges)\n",
    "    \n",
    "    return G_un\n",
    "\n",
    "G_un = answer_thirteen()"
   ]
  },
  {
   "cell_type": "markdown",
   "metadata": {},
   "source": [
    "### Question 14\n",
    "\n",
    "What is the transitivity and average clustering coefficient of graph G_un?\n",
    "\n",
    "*This function should return a tuple (transitivity, avg clustering).*"
   ]
  },
  {
   "cell_type": "code",
   "execution_count": 16,
   "metadata": {},
   "outputs": [
    {
     "data": {
      "text/plain": [
       "(0.570111160700385, 0.697527243723142)"
      ]
     },
     "execution_count": 16,
     "metadata": {},
     "output_type": "execute_result"
    }
   ],
   "source": [
    "def answer_fourteen(G_un = G_un):\n",
    "    \n",
    "    trans = nx.transitivity(G_un)\n",
    "    avg_cluster = nx.average_clustering(G_un)\n",
    "    \n",
    "    return (trans,avg_cluster)\n",
    "\n",
    "answer_fourteen()"
   ]
  },
  {
   "cell_type": "code",
   "execution_count": null,
   "metadata": {
    "collapsed": true
   },
   "outputs": [],
   "source": []
  }
 ],
 "metadata": {
  "coursera": {
   "course_slug": "python-social-network-analysis",
   "graded_item_id": "jMCHR",
   "launcher_item_id": "7RsKp",
   "part_id": "E9gn5"
  },
  "kernelspec": {
   "display_name": "Python 3",
   "language": "python",
   "name": "python3"
  },
  "language_info": {
   "codemirror_mode": {
    "name": "ipython",
    "version": 3
   },
   "file_extension": ".py",
   "mimetype": "text/x-python",
   "name": "python",
   "nbconvert_exporter": "python",
   "pygments_lexer": "ipython3",
   "version": "3.6.2"
  }
 },
 "nbformat": 4,
 "nbformat_minor": 2
}
