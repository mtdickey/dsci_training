{
 "cells": [
  {
   "cell_type": "markdown",
   "metadata": {},
   "source": [
    "# Regular Expressions\n",
    "\n",
    "\n",
    "### So, what's RegEx?\n",
    "\n",
    "Regular expressions (also called regexes or regex patterns) are sequences of characters that specify a search pattern.  In Python, this is made available through the built-in `re` module. Using this little language, you specify the rules for the set of possible strings that you want to match; this set might contain English words, or e-mail addresses, or phone numbers, or anything you like.\n",
    "\n",
    "Regexes are extremely useful in extracting information from any text by searching for one or more matches of a specific search pattern.  They can also be used for other things, such as string replacement or data validation.\n"
   ]
  },
  {
   "cell_type": "code",
   "execution_count": 1,
   "metadata": {},
   "outputs": [],
   "source": [
    "import re"
   ]
  },
  {
   "cell_type": "markdown",
   "metadata": {},
   "source": [
    "## Table of Contents\n",
    "\n",
    "Heads up, this is a lengthy notebook, so here are some links to help you jump to certain sections you may be interested in:\n",
    "   1. [RegEx Basics and Syntax Guide](#RegEx-Basics-and-Syntax-Guide)\n",
    "   2. [Compiling and Running RegEx in Python](#Compiling-and-running-RegEx-in-Python)\n",
    "   3. [Common RegEx Patterns](#Common-RegEx-Patterns)\n",
    "   4. [Modifying Strings](#Modifying-Strings)\n",
    "   5. [Grouping](#Grouping)\n",
    "   6. [Caveats](#Caveats)\n",
    "\n",
    "\n",
    "Obligatory XKCD about RegEx:\n",
    "<div>\n",
    "<img src=\"regex_xkcd.PNG\" width=\"35%\"/>\n",
    "</div>\n"
   ]
  },
  {
   "cell_type": "markdown",
   "metadata": {},
   "source": [
    "##  RegEx Basics and Syntax Guide\n",
    "\n",
    "Before we get into any Python, let's go over the basics of the regex:  How does one write regex patterns?\n",
    "\n",
    "Whether you're new to RegEx or not, I **highly recommend** using [RegExr](https://regexr.com/).  You need to have this page bookmarked.  Seriously, if you get nothing else from this notebook, just bookmark that page.  It is an excellent tool with great features to explain the elements of your regex and highlight matches in a test string.  It also provides example regexes and documents the regex language far better than I do below.  I don't write a regex without it.\n",
    "\n",
    "If you aren't new to RegEx syntax, but want to learn more about using it in Python, go ahead and skip ahead to the [Compiling and Running in Python](#Compiling-and-running-RegEx-in-Python) section.  This section is a bit long.\n",
    "\n",
    "### Metacharacters\n",
    "  \n",
    "Most letters and characters will simply match themselves in regex patterns. For example, the regular expression `test` will match the string `test` exactly. (You can enable a case-insensitive mode that would let this RE match `Test` or `TEST` as well; more about this later.)\n",
    "\n",
    "There are exceptions to this rule; 14 characters are *metacharacters*, which means they have a special meaning and don’t match themselves.  Below is a complete list of the metacharacters.  Their meanings will be discussed in the rest of this notebook.\n",
    "\n",
    "`^ $ * + ? { } [ ] \\ | ( ) . `\n",
    "\n",
    "#### Anchors `^ $`\n",
    "\n",
    "  - `^` : match the start of a string (e.g. `^Start` matches the string `Start`, but not `false start`)\n",
    "  - `$` : match the end of a string (e.g. `Fin$` matches the string `Fin`, but not `finish`)\n",
    "  \n",
    "  - `^The end$` : exact string match (string starts and ends with `The end`)\n",
    "\n",
    "#### Quantifiers ` * + ? { }`\n",
    "\n",
    "  - `abc*`       : matches a string that has `ab` followed by **zero or more** `c`\n",
    "  - `abc+`       : matches a string that has `ab` followed by **one or more** `c`\n",
    "  - `abc?`       : matches a string that has `ab` followed by **zero or one** `c`\n",
    "  - `abc{2}`     : matches a string that has `ab` followed by **exactly 2** `c`\n",
    "  - `abc{2,}`    : matches a string that has `ab` followed by **2 or more** `c`\n",
    "  - `abc{2,5}`   : matches a string that has `ab` followed by **2 up to 5** `c`\n",
    "  - `a(bc)*`     : matches a string that has `a` followed by **zero or more** copies of the sequence `bc`\n",
    "  - `a(bc){2,5}` : matches a string that has `a` followed by 2 up to 5 copies of the sequence `bc`\n",
    "\n",
    "#### Character Classes  `[ ]`\n",
    "\n",
    "   - `[abc]`       : matches a string that has either an a or a b or a c\n",
    "      - Note: This is equivalent to using `a|b|c` (`|` is a boolean \"OR\")\n",
    "   - `[a-c]`       : same as previous\n",
    "      - note: `-` is used as a \"range\" here, commonly you see character classes like `[A-Z]` to match all uppercase English letters.\n",
    "   - `[a-fA-F0-9]` : a single hexadecimal digit, case insensitively\n",
    "   - `[0-9]%`      : a string that has the numbers from 0 to 9 before a % sign\n",
    "   - `[^a-zA-Z]`   : a string that has not a letter from a to z or from A to Z\n",
    "     - Note: In this case the `^` is used as negation of the expression and returns the *complement*\n",
    "\n",
    "#### The Backslash `\\`\n",
    "\n",
    "Perhaps the most important metacharacter.  The backslash can be followed by various characters to represent various special sequences. It’s also used to escape all the metacharacters so you can still match them in patterns; for example, if you need to match a `[` or `\\`, you can precede them with a backslash to remove their special meaning: `\\[` or `\\\\`.\n",
    "\n",
    "An incomplete list of common is below.  For a complete list, see the last part of [Regular Expression Syntax](https://docs.python.org/3/library/re.html#re-syntax) in the Standard Library reference.\n",
    "\n",
    "  - `\\d` : Matches any digit. Equivalent to the class `[0-9]`.\n",
    "  - `\\D` : Matches anything other than a decimal/digit (negation/complement of above)\n",
    "     - Note: Most backslash-defined character classes are negated by using the capital letter, as with the two above.\n",
    "  - `\\s` : Matches any whitespace (space, tab or newline) character.\n",
    "  - `\\w` : Matches any alphanumeric character. Equivalent to the class `[a-zA-Z0-9_]`.\n",
    "  - `\\W` : Matches any non-alphanumeric character. Equivalent to the class `[^a-zA-Z0-9_]`.\n",
    "\n",
    "#### Group Constructs `( )`\n",
    "\n",
    "This is more of an advanced topic, but we'll cover it more in [Grouping](#Grouping)\n",
    "\n",
    "  - `a(bc)`       : parentheses create a **capturing group** with value `bc`\n",
    "  - `a(?:bc)*`    : using `?:` we **disable the capturing group**\n",
    "  - a`(?P<foo>bc)` : using `?P<foo>` we assign a name to the group\n",
    "\n",
    "#### The dot `.`\n",
    "- The final metacharacter in this section is `.`. By default matches anything except a newline character (although there's an option to have it match newline too).  `.` is often used where you want to match “any character”.\n"
   ]
  },
  {
   "cell_type": "markdown",
   "metadata": {},
   "source": [
    "## Compiling and running RegEx in Python\n",
    "\n",
    "Phew, ok.  I think that's enough syntax for this notebook.\n",
    "\n",
    "Now how do we use RegEx in Python?  Let's compile our first regex using `re.compile()` below."
   ]
  },
  {
   "cell_type": "code",
   "execution_count": 2,
   "metadata": {},
   "outputs": [
    {
     "data": {
      "text/plain": [
       "re.compile(r'needle', re.UNICODE)"
      ]
     },
     "execution_count": 2,
     "metadata": {},
     "output_type": "execute_result"
    }
   ],
   "source": [
    "p = re.compile('needle')\n",
    "p"
   ]
  },
  {
   "cell_type": "markdown",
   "metadata": {},
   "source": [
    "Ok, so now we have a pattern object that matches the string `needle` exactly... what can we do with it?\n",
    "\n",
    "Here are the 4 most common methods/attributes of the pattern and why they're used:\n",
    "\n",
    "<p align=\"left\">\n",
    "\n",
    "| Method     | Purpose                                                                                                                                                                                    |\n",
    "|------------|:------------------------------------------------------------------------------------------------------------------------------------------------------------------------------------------|\n",
    "| **findall()**  | Find all substrings where the regex matches, and returns the matching parts<br> of the string as a **list**.                                                                                                                   |\n",
    "| **finditer()** | Find all substrings where the regex matches, and returns the matching parts<br>of the string as an **iterator** of `MatchObject`s.                                                                                                              |\n",
    "| **search()**   | Scan through a string, looking ***for the first location*** where this regex matches.<br>Returns a `MatchObject` if a match is found, and `None` if not.                                                                                                                   |\n",
    "| **match()**    | Determine if the regex matches ***at the beginning of the string***.<br>Returns a `MatchObject` if a match is found, and `None` if not.   |\n",
    "\n",
    "\n",
    "</p>\n",
    "\n",
    "#### `findall()`\n",
    "Let's start with my personal favorite, `findall()`, to grab all the `needle`s from this string."
   ]
  },
  {
   "cell_type": "code",
   "execution_count": 3,
   "metadata": {},
   "outputs": [
    {
     "data": {
      "text/plain": [
       "['needle', 'needle', 'needle']"
      ]
     },
     "execution_count": 3,
     "metadata": {},
     "output_type": "execute_result"
    }
   ],
   "source": [
    "string = \"\"\"hay hay hay hay hay hay hay hay hayyyyyy, needle... hay hay hay, needle hay hay hay\n",
    "            hay hay hneedleay hay hNEEDLEay hay\"\"\"\n",
    "\n",
    "p.findall(string)"
   ]
  },
  {
   "cell_type": "markdown",
   "metadata": {},
   "source": [
    "We found 3 `needle`s.  But wait, I see a big capitalized needle in there, how do we do a case insensitive version of this?\n",
    "\n",
    "\n",
    "#### Enter, Compilation Flags\n",
    "In this case, we can use the **compilation flag** `re.IGNORECASE` when we compile our pattern to get all possible casing of the string `needle` (Note: The other `re` methods, such as `re.findall()`, also accept flags as arguments)."
   ]
  },
  {
   "cell_type": "code",
   "execution_count": 4,
   "metadata": {},
   "outputs": [
    {
     "data": {
      "text/plain": [
       "['needle', 'needle', 'needle', 'NEEDLE']"
      ]
     },
     "execution_count": 4,
     "metadata": {},
     "output_type": "execute_result"
    }
   ],
   "source": [
    "p_ignore = re.compile('needle', re.IGNORECASE)\n",
    "p_ignore.findall(string)"
   ]
  },
  {
   "cell_type": "markdown",
   "metadata": {},
   "source": [
    "Note: There are loads of other potentially useful compilation flags including:\n",
    "  - **re.MULTILINE**: This affects anchors, `^` and `$`.  When this flag is specified, `^` matches at the beginning of the string AND at the beginning of each line within the string, immediately following each newline. Similarly, the `$` metacharacter matches either at the end of the string and at the end of each line (immediately preceding each newline).\n",
    "  - **re.DOTALL** : Makes the `.` special character match any character at all, including a newline; without this flag, `.` will match anything except a newline\n",
    "  - **re.VERBOSE** : Allows you to write more readable regex, complete with comments.  This ignores whitespace characters in the pattern unless they are within a character class (e.g. [char \\n \\t] will still match spaces, tabs, and newline)\n",
    "     - Example of a pattern you can write with re.VERBOSE:\n",
    "       ```\n",
    "       re.compile(r\"\"\"\\d +  # the integral part\n",
    "                   \\.    # the decimal point\n",
    "                   \\d *  # some fractional digits\"\"\", re.VERBOSE)```\n"
   ]
  },
  {
   "cell_type": "markdown",
   "metadata": {},
   "source": [
    "#### `finditer()`\n",
    "`finditer()` works the same way, but it returns an iterable of `MatchObject` instances that may be useful if you need to do some extra fancy processing using the attributes of those objects (such as start and end positions, as shown below)."
   ]
  },
  {
   "cell_type": "code",
   "execution_count": 5,
   "metadata": {},
   "outputs": [
    {
     "name": "stdout",
     "output_type": "stream",
     "text": [
      "String match 'needle' at positions 42:48\n",
      "String match 'needle' at positions 65:71\n",
      "String match 'needle' at positions 105:111\n",
      "String match 'NEEDLE' at positions 119:125\n"
     ]
    }
   ],
   "source": [
    "for match in re.finditer('needle', string, flags = re.IGNORECASE):\n",
    "    s = match.start()\n",
    "    e = match.end()\n",
    "    print(f\"String match '{string[s:e]}' at positions {s}:{e}\")"
   ]
  },
  {
   "cell_type": "markdown",
   "metadata": {},
   "source": [
    "#### `search()`/`match()`\n",
    "Let's go over another example using `re.search()` and `re.match()` to grab the *first phone numbers* in some strings."
   ]
  },
  {
   "cell_type": "code",
   "execution_count": 6,
   "metadata": {},
   "outputs": [],
   "source": [
    "phone_pattern = re.compile(r'\\d{3}-\\d{3}-\\d{4}') ## With area code and no country code"
   ]
  },
  {
   "cell_type": "code",
   "execution_count": 7,
   "metadata": {},
   "outputs": [
    {
     "name": "stdout",
     "output_type": "stream",
     "text": [
      "Results using search():\n",
      "phonebook string: <re.Match object; span=(43, 55), match='555-234-5678'>\n",
      "phone string:     <re.Match object; span=(0, 12), match='555-234-5678'>\n",
      "\n",
      "Results using match():\n",
      "phonebook string: None\n",
      "phone string:     <re.Match object; span=(0, 12), match='555-234-5678'>\n"
     ]
    }
   ],
   "source": [
    "## Define strings\n",
    "phonebook_string = \"\"\"Phonebook:\n",
    "                    Front desk: 555-234-5678\n",
    "                    Boss man: 555-345-6789\n",
    "                    Other guy: 888-987-6543\n",
    "                    \"\"\"\n",
    "phone_string = \"555-234-5678\"\n",
    "\n",
    "## Run search() on each string\n",
    "search_phonebook = phone_pattern.search(phonebook_string)\n",
    "search_phone_str = phone_pattern.search(phone_string)\n",
    "\n",
    "## Run match() on each string\n",
    "match_phonebook  = phone_pattern.match(phonebook_string)\n",
    "match_phone_str  = phone_pattern.match(phone_string)\n",
    "\n",
    "### Print results\n",
    "print(\"Results using search():\")\n",
    "print(f\"phonebook string: {search_phonebook}\")\n",
    "print(f\"phone string:     {search_phone_str}\")\n",
    "\n",
    "print(\"\\nResults using match():\")\n",
    "print(f\"phonebook string: {match_phonebook}\")\n",
    "print(f\"phone string:     {match_phone_str}\")"
   ]
  },
  {
   "cell_type": "markdown",
   "metadata": {},
   "source": [
    "Notice that `match()` returns `None` when the phone number pattern is not at the start of the string (in the case of the full phonebook string).  Checking if `search()` has a start position of 0 is basically equivalent to `match()`.\n",
    "\n",
    "Since `MatchObject`s evaluate to `True` and `None` evaluates to `False`, a common Pythonic way to check if there is a match anywhere in a string is to use if/else logic as below."
   ]
  },
  {
   "cell_type": "code",
   "execution_count": 8,
   "metadata": {},
   "outputs": [
    {
     "name": "stdout",
     "output_type": "stream",
     "text": [
      "We found a phone number at position 43:55 in string 1!!\n",
      "No phone numbers found in string 2 :(\n"
     ]
    }
   ],
   "source": [
    "not_a_phonebook_string = \"\"\"just a bunch of text without any phone numbers.... nothing to see here\"\"\"\n",
    "\n",
    "match = phone_pattern.search(not_a_phonebook_string)\n",
    "\n",
    "counter = 0\n",
    "for string in [phonebook_string, not_a_phonebook_string]:\n",
    "    counter+=1\n",
    "    m = phone_pattern.search(string)\n",
    "    if m:\n",
    "        print(f\"We found a phone number at position {m.start()}:{m.end()} in string {counter}!!\")\n",
    "    else:\n",
    "        print(f\"No phone numbers found in string {counter} :(\")\n"
   ]
  },
  {
   "cell_type": "markdown",
   "metadata": {},
   "source": [
    "### Beware the backslash\n",
    "\n",
    "One final note on compilation... you may notice that above we have been using **raw strings**.  This is because standard Python strings treat the backslash (`\\`) as an escape character for things like tabs and newlines.\n",
    "\n",
    "If you're not careful about using raw strings, your regex may not be doing what you think.  In the example below, we try to pull any words that start with a backslash.\n",
    "\n",
    "Let's try doing this without a raw string."
   ]
  },
  {
   "cell_type": "code",
   "execution_count": 9,
   "metadata": {},
   "outputs": [
    {
     "data": {
      "text/plain": [
       "['\\\\w']"
      ]
     },
     "execution_count": 9,
     "metadata": {},
     "output_type": "execute_result"
    }
   ],
   "source": [
    "data = r\"\"\"this is a string with \\words with \\backslashes before \\some.\"\"\"\n",
    "\n",
    "backslash_pattern = re.compile('\\\\\\w+')\n",
    "backslash_pattern.findall(data)"
   ]
  },
  {
   "cell_type": "markdown",
   "metadata": {},
   "source": [
    "Hmm, that didn't work.  Let's check out our pattern again."
   ]
  },
  {
   "cell_type": "code",
   "execution_count": 10,
   "metadata": {},
   "outputs": [
    {
     "data": {
      "text/plain": [
       "re.compile(r'\\\\w+', re.UNICODE)"
      ]
     },
     "execution_count": 10,
     "metadata": {},
     "output_type": "execute_result"
    }
   ],
   "source": [
    "backslash_pattern"
   ]
  },
  {
   "cell_type": "markdown",
   "metadata": {},
   "source": [
    "Oh!  We forgot to put an \"r\" in front of our pattern, so this pattern just looks for a single backslash followed by 1 or more \"w\"s instead of alphanumeric characters.\n",
    "\n",
    "To do this properly without raw strings, you would need *FIVE* backslashes."
   ]
  },
  {
   "cell_type": "code",
   "execution_count": 11,
   "metadata": {},
   "outputs": [
    {
     "data": {
      "text/plain": [
       "['\\\\words', '\\\\backslashes', '\\\\some']"
      ]
     },
     "execution_count": 11,
     "metadata": {},
     "output_type": "execute_result"
    }
   ],
   "source": [
    "backslash_pattern_2 = re.compile('\\\\\\\\\\\\w+')\n",
    "backslash_pattern_2.findall(data)"
   ]
  },
  {
   "cell_type": "markdown",
   "metadata": {},
   "source": [
    "But with raw strings, you only need the 3 that I tried at the start."
   ]
  },
  {
   "cell_type": "code",
   "execution_count": 12,
   "metadata": {},
   "outputs": [
    {
     "data": {
      "text/plain": [
       "['\\\\words', '\\\\backslashes', '\\\\some']"
      ]
     },
     "execution_count": 12,
     "metadata": {},
     "output_type": "execute_result"
    }
   ],
   "source": [
    "backslash_raw_pattern = re.compile(r'\\\\\\w+')\n",
    "backslash_raw_pattern.findall(data)"
   ]
  },
  {
   "cell_type": "markdown",
   "metadata": {},
   "source": [
    "Lesson: just put \"r\" in front of your regex strings.  It makes it easier to read and understand."
   ]
  },
  {
   "cell_type": "markdown",
   "metadata": {},
   "source": [
    "## Common RegEx Patterns\n",
    "\n",
    "Below are some regexes that may be useful to you.  These are written in verbose mode to demonstrate readability and to give explanations of what each element of the regex is doing."
   ]
  },
  {
   "cell_type": "code",
   "execution_count": 13,
   "metadata": {},
   "outputs": [],
   "source": [
    "email_regex = re.compile(r\"\"\"\n",
    "                         (?:[\\w\\.\\-_]+)?         ## optional string of alphanumeric,underscore/dot, etc.\n",
    "                         \\w+                     ## alphanumeric before @\n",
    "                         @[\\w\\-_]+(?:\\.\\w+){1,}  ## @ character and website name, 1 or more extensions\n",
    "                         \"\"\", re.VERBOSE)"
   ]
  },
  {
   "cell_type": "code",
   "execution_count": 14,
   "metadata": {},
   "outputs": [],
   "source": [
    "phone_regex = re.compile(r\"\"\"\n",
    "                         (?:\\+?(?: |-|\\.)?          ## Optionally start with +\n",
    "                         \\d{1,2}                    ## 1/2 digit country code\n",
    "                         (?: |-|\\.)?)?              ## spacing\n",
    "                         (?:\\(?\\d{3}\\)?|\\d{3})      ## area code with/without parens\n",
    "                         (?: |-|\\.)?                ## spacing\n",
    "                         (?:\\d{3}(?: |-|\\.)?\\d{4})  ## 3 digits, a space, followed by 4 digits\n",
    "                         \"\"\", re.VERBOSE)"
   ]
  },
  {
   "cell_type": "code",
   "execution_count": 15,
   "metadata": {},
   "outputs": [],
   "source": [
    "date_regex = re.compile(\"\"\"\n",
    "                        ### Date in M/D/YYYY, MM/DD/YYYY, M-D-YYYY, or MM-DD-YYYY\n",
    "                        (?:0?[1-9]|1[0-2]) ## Month part\n",
    "                        [\\/-](?:0?[1-9]|[12]\\d|3[01])[\\/-](?:19|20)\\d{2}\n",
    "                        \"\"\", re.VERBOSE)"
   ]
  },
  {
   "cell_type": "markdown",
   "metadata": {},
   "source": [
    "Demoing these on a long string containing a bunch of stuff."
   ]
  },
  {
   "cell_type": "code",
   "execution_count": 16,
   "metadata": {},
   "outputs": [],
   "source": [
    "string_with_lots_of_stuff = \"\"\"Here's a string with words that aren't emails, phones, and dates...but also has\n",
    "emails: test123.part2@email.co.uk, name@email.com, firstname.lastname234@domain.ru.net\n",
    "phones: +1-(800)-555-5555, +93-200-555-5555, 999.923.2935, 1-855-345-6789, 234-5678\n",
    "dates:  12/31/2006, 09-11-2001, 1/2/2000, February 1st, 2019\n",
    "and lots of other nonsense... blah blah blah.\n",
    "\"\"\""
   ]
  },
  {
   "cell_type": "code",
   "execution_count": 17,
   "metadata": {},
   "outputs": [
    {
     "name": "stdout",
     "output_type": "stream",
     "text": [
      "Emails found in string: ['test123.part2@email.co.uk', 'name@email.com', 'firstname.lastname234@domain.ru.net']\n",
      "Phones found in string: ['+1-(800)-555-5555', '+93-200-555-5555', '999.923.2935', '1-855-345-6789']\n",
      "Dates found in string: ['12/31/2006', '09-11-2001', '1/2/2000']\n"
     ]
    }
   ],
   "source": [
    "emails_found = email_regex.findall(string_with_lots_of_stuff)\n",
    "phones_found = phone_regex.findall(string_with_lots_of_stuff)\n",
    "dates_found  = date_regex.findall(string_with_lots_of_stuff)\n",
    "\n",
    "print(f\"Emails found in string: {emails_found}\")\n",
    "print(f\"Phones found in string: {phones_found}\")\n",
    "print(f\"Dates found in string: {dates_found}\")"
   ]
  },
  {
   "cell_type": "markdown",
   "metadata": {},
   "source": [
    "Notice, these patterns aren't silver bullets and don't get *all* of the phones/dates in the string.  With all of the ways these things may be formatted, it's recommended to make multiple regexes to capture everything you need and make it easier to understand than one massive regex."
   ]
  },
  {
   "cell_type": "markdown",
   "metadata": {},
   "source": [
    "## Grouping\n",
    "\n",
    "You may have noticed in the syntax for common regexes above, we use `(?:...)` in our group constructs (where `...` are characters in the pattern).  This is used for **non-capturing groups**, which means Python will not retrieve the contents of that group separately.\n",
    "\n",
    "Let's take a look at **capturing groups** and why they can be useful for breaking up the matches.\n",
    "\n",
    "Below I've copied the `phone_regex` from above but removed the `?:` syntax and some of the groups."
   ]
  },
  {
   "cell_type": "code",
   "execution_count": 18,
   "metadata": {},
   "outputs": [],
   "source": [
    "phone_capture_grp_regex = re.compile(r\"\"\"\n",
    "                             (\\+?[ \\-.]?             ## Optionally start with +\n",
    "                             \\d{1,2}                  ## 1/2 digit country code\n",
    "                             )?([ \\-.])?                ## spacing\n",
    "                             (\\(?\\d{3}\\)?|\\d{3})      ## area code with/without parens\n",
    "                             ( |-|\\.)?                ## spacing\n",
    "                             (\\d{3}(?: |-|\\.)?\\d{4})  ## 3 digits, a space, followed by 4 digits\n",
    "                             \"\"\", re.VERBOSE)"
   ]
  },
  {
   "cell_type": "code",
   "execution_count": 19,
   "metadata": {},
   "outputs": [
    {
     "data": {
      "text/plain": [
       "[('+1', '-', '(800)', '-', '555-5555'),\n",
       " ('+93', '-', '200', '-', '555-5555'),\n",
       " ('', ' ', '999', '.', '923.2935'),\n",
       " (' 1', '-', '855', '-', '345-6789')]"
      ]
     },
     "execution_count": 19,
     "metadata": {},
     "output_type": "execute_result"
    }
   ],
   "source": [
    "email_groups_found = phone_capture_grp_regex.findall(string_with_lots_of_stuff)\n",
    "email_groups_found"
   ]
  },
  {
   "cell_type": "markdown",
   "metadata": {},
   "source": [
    "So when groups are present, `findall()` returns a list of tuples with each of the matches and their groups.\n",
    "\n",
    "We can also assign a name to each of the groups using the syntax `(?P<name>...)`.  But, we'll need to use a different function, such as `finditer()` that returns a `MatchObject` to access a dictionary containing the names of each group.  This is shown below."
   ]
  },
  {
   "cell_type": "code",
   "execution_count": 20,
   "metadata": {},
   "outputs": [],
   "source": [
    "phone_capture_grp_name_regex = re.compile(r\"\"\"\n",
    "                             (?P<country_cd>\\+?[ \\-.]?           ## Optionally start with +\n",
    "                             \\d{1,2}                             ## 1/2 digit country code\n",
    "                             )?(?P<space_1>[ \\-.])?              ## spacing\n",
    "                             (?P<area_cd>\\(?\\d{3}\\)?|\\d{3})      ## area code with/without parens\n",
    "                             (?P<space_2> |-|\\.)?                ## spacing\n",
    "                             (?P<number>\\d{3}(?: |-|\\.)?\\d{4})   ## 3 digits, a space, followed by 4 digits\n",
    "                             \"\"\", re.VERBOSE)"
   ]
  },
  {
   "cell_type": "code",
   "execution_count": 21,
   "metadata": {},
   "outputs": [
    {
     "name": "stdout",
     "output_type": "stream",
     "text": [
      "group dictionary for +1-(800)-555-5555: {'country_cd': '+1', 'space_1': '-', 'area_cd': '(800)', 'space_2': '-', 'number': '555-5555'}\n",
      "group dictionary for +93-200-555-5555: {'country_cd': '+93', 'space_1': '-', 'area_cd': '200', 'space_2': '-', 'number': '555-5555'}\n",
      "group dictionary for  999.923.2935: {'country_cd': None, 'space_1': ' ', 'area_cd': '999', 'space_2': '.', 'number': '923.2935'}\n",
      "group dictionary for  1-855-345-6789: {'country_cd': ' 1', 'space_1': '-', 'area_cd': '855', 'space_2': '-', 'number': '345-6789'}\n"
     ]
    }
   ],
   "source": [
    "email_named_groups_found = phone_capture_grp_name_regex.finditer(string_with_lots_of_stuff)\n",
    "for match in email_named_groups_found:\n",
    "    print(f\"group dictionary for {''.join([g for g in match.groups() if g])}: {match.groupdict()}\")"
   ]
  },
  {
   "cell_type": "markdown",
   "metadata": {},
   "source": [
    "You can see how labeling the individual parts within each match could be useful metadata to gather (imagine that you need to get a list of all phone numbers for a given set of countries and/or a set of area codes)."
   ]
  },
  {
   "cell_type": "markdown",
   "metadata": {},
   "source": [
    "## Modifying Strings\n",
    "\n",
    "Aside from performing searches against a static string, regexes are also commonly used to modify strings in various ways, using the following methods:\n",
    "\n",
    "| Method      | Purpose                                                                                   |\n",
    "|-------------|:------------------------------------------------------------------------------------------|\n",
    "| **split()** | Split the string into a list, splitting it wherever<br> the RE matches                        |\n",
    "| **sub()**   | Find all substrings where the RE matches, and replace<br> them with a different string        |\n",
    "| **subn()**  | Does the same thing as `sub()`, but returns the new<br> string and the number of replacements |"
   ]
  },
  {
   "cell_type": "markdown",
   "metadata": {},
   "source": [
    "### `split()`\n",
    "\n",
    "`split()` can be seen as an extended version of the standard Python string function, `str.split()`.  Instead of splitting by a static string, you can use special regex patterns to split the string.\n",
    "\n",
    "Here's a quick example tokenizing the words of a long string using whitespace patterns."
   ]
  },
  {
   "cell_type": "code",
   "execution_count": 22,
   "metadata": {},
   "outputs": [
    {
     "name": "stdout",
     "output_type": "stream",
     "text": [
      "Pretty printing has been turned OFF\n"
     ]
    },
    {
     "data": {
      "text/plain": [
       "['', 'Once', 'upon', 'a', 'time,', 'there', 'was', 'a', 'string', 'that', 'needed', 'to', 'be', 'split.', 'It', 'was', 'long', 'and', 'had', 'multiple', 'lines', 'and', 'tabs,', 'and', 'lots', 'of', 'spaces!!', '']"
      ]
     },
     "execution_count": 22,
     "metadata": {},
     "output_type": "execute_result"
    }
   ],
   "source": [
    "%pprint\n",
    "story = \"\"\"\n",
    "        Once upon a time, there was a string that needed to be split.\n",
    "           It was long and had   multiple lines\n",
    "                and tabs, and   lots   of      spaces!!\n",
    "        \"\"\"\n",
    "\n",
    "whitespace_regex = re.compile(r\"\\s+\")\n",
    "\n",
    "whitespace_regex.split(story)"
   ]
  },
  {
   "cell_type": "markdown",
   "metadata": {},
   "source": [
    "### `sub()`\n",
    "\n",
    "`sub()` can be seen as an extended version of the standard Python string function, `str.replace()`.  Instead of replacing a static string, you can use special regex patterns to replace within the string.\n",
    "\n",
    "Here's an example replacing all 2+ digit numbers:"
   ]
  },
  {
   "cell_type": "code",
   "execution_count": 23,
   "metadata": {},
   "outputs": [
    {
     "data": {
      "text/plain": [
       "'I have 2 dogs, lots of cats, and lots of chickens.'"
      ]
     },
     "execution_count": 23,
     "metadata": {},
     "output_type": "execute_result"
    }
   ],
   "source": [
    "statement = \"I have 2 dogs, 37 cats, and 182 chickens.\"\n",
    "\n",
    "number_regex = re.compile(\"\\d{2,}\")\n",
    "\n",
    "number_regex.sub('lots of', statement)"
   ]
  },
  {
   "cell_type": "markdown",
   "metadata": {},
   "source": [
    "### `subn()`\n",
    "\n",
    "`subn()` is basically the same as `sub()`, but it returns the number of replacements too.\n",
    "\n",
    "Here's what it does using the same example:"
   ]
  },
  {
   "cell_type": "code",
   "execution_count": 24,
   "metadata": {},
   "outputs": [
    {
     "name": "stdout",
     "output_type": "stream",
     "text": [
      "New string after 2 replacements: 'I have 2 dogs, lots of cats, and lots of chickens.'\n"
     ]
    }
   ],
   "source": [
    "replaced_string, n_replacements = number_regex.subn('lots of', statement)\n",
    "\n",
    "print(f\"New string after {n_replacements} replacements: '{replaced_string}'\")"
   ]
  },
  {
   "cell_type": "markdown",
   "metadata": {},
   "source": [
    "## Summary\n",
    "\n",
    "As you’ve seen, RegExs can be super useful.  This should be a go-to tool for any Python coder facing such problems as:\n",
    "  - Data extraction\n",
    "  - String/pattern replacement\n",
    "  - Data validation"
   ]
  },
  {
   "cell_type": "markdown",
   "metadata": {},
   "source": [
    "### Caveats\n",
    "\n",
    "A funny quote often shared about RegEx goes like this:\n",
    "\n",
    "    \"Some people, when confronted with a problem, think 'I know, I'll use regular expressions.' Now they have two problems.\"\n",
    "\n",
    "What I think is meant by this is that **RegEx can get out of hand and hard to maintain.**  If you write regular expressions that are difficult to read into your codebase, you are doing it wrong.\n",
    "\n",
    "Here are some tips I stole from a blog post:\n",
    "  1. **Do not try to do everything in one uber-regex.** I know you can do it that way, but you're not going to. It's not worth it. Break the operation down into several smaller, more understandable regular expressions, and apply each in turn. Nobody will be able to understand or debug that monster 20-line regex, but they might just have a fighting chance at understanding and debugging five mini regexes.\n",
    "  2. **Use whitespace and comments.** It isn't 1997 any more. A tiny ultra-condensed regex is no longer a virtue. Flip on the IgnorePatternWhitespace option, then use that whitespace to make your regex easier for us human beings to parse and understand. Comment liberally.\n",
    "  3. **Get a regular expression tool.** I don't stare at regular expressions and try to suss out their meaning through sheer force of will. Neither should you. It's a waste of time. I paste them into my regex tool of choice, [RegExr](https://regexr.com/), which not only tells me what the regular expression does, but also lets me run it through some test data. All in real time as I type.\n",
    "  4. **Regular expressions are not Parsers.** Although you can do some amazing things with regular expressions, they are weak at balanced tag matching. Some regex variants have balanced matching, but it is clearly a hack – and a nasty one. You can often make it kinda-sorta work, as I have in the sanitize routine. But no matter how clever your regex, don't delude yourself: it is in no way, shape or form a substitute for a real live parser.\n",
    "\n",
    "\n",
    "There are some tasks that can be done with regular expressions, but the expressions turn out to be very complicated. In these cases, you may be better off writing Python code to do the processing; while Python code will be slower than an elaborate regular expression, it will also probably be more understandable."
   ]
  }
 ],
 "metadata": {
  "kernelspec": {
   "display_name": "Python 3",
   "language": "python",
   "name": "python3"
  },
  "language_info": {
   "codemirror_mode": {
    "name": "ipython",
    "version": 3
   },
   "file_extension": ".py",
   "mimetype": "text/x-python",
   "name": "python",
   "nbconvert_exporter": "python",
   "pygments_lexer": "ipython3",
   "version": "3.7.3"
  }
 },
 "nbformat": 4,
 "nbformat_minor": 2
}
